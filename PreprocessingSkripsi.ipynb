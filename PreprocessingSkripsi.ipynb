{
 "cells": [
  {
   "cell_type": "code",
   "execution_count": 1,
   "id": "bb9d2658",
   "metadata": {
    "id": "bb9d2658"
   },
   "outputs": [],
   "source": [
    "# import library\n",
    "import pandas as pd\n",
    "import numpy as np\n",
    "import re\n",
    "import nltk\n",
    "import string\n",
    "from sklearn.feature_extraction.text import CountVectorizer\n",
    "from sklearn.feature_extraction.text import TfidfVectorizer"
   ]
  },
  {
   "cell_type": "code",
   "execution_count": 2,
   "id": "KPjP4d4WNPHP",
   "metadata": {
    "colab": {
     "base_uri": "https://localhost:8080/",
     "height": 206
    },
    "id": "KPjP4d4WNPHP",
    "outputId": "b4e35485-35a0-4abd-e1b1-31b2c6a39850"
   },
   "outputs": [
    {
     "data": {
      "text/html": [
       "<div>\n",
       "<style scoped>\n",
       "    .dataframe tbody tr th:only-of-type {\n",
       "        vertical-align: middle;\n",
       "    }\n",
       "\n",
       "    .dataframe tbody tr th {\n",
       "        vertical-align: top;\n",
       "    }\n",
       "\n",
       "    .dataframe thead th {\n",
       "        text-align: right;\n",
       "    }\n",
       "</style>\n",
       "<table border=\"1\" class=\"dataframe\">\n",
       "  <thead>\n",
       "    <tr style=\"text-align: right;\">\n",
       "      <th></th>\n",
       "      <th>label</th>\n",
       "      <th>tweet</th>\n",
       "    </tr>\n",
       "  </thead>\n",
       "  <tbody>\n",
       "    <tr>\n",
       "      <th>0</th>\n",
       "      <td>Positif</td>\n",
       "      <td>-- Halaman obrolan #ChatGPT @OpenAi tidak terc...</td>\n",
       "    </tr>\n",
       "    <tr>\n",
       "      <th>1</th>\n",
       "      <td>Netral</td>\n",
       "      <td>' Snapchat merilis chatbot AI-nya sendiri yang...</td>\n",
       "    </tr>\n",
       "    <tr>\n",
       "      <th>2</th>\n",
       "      <td>Netral</td>\n",
       "      <td>\" #ChatGPT untuk Guru - Panduan oleh Evan Dunn...</td>\n",
       "    </tr>\n",
       "    <tr>\n",
       "      <th>3</th>\n",
       "      <td>Netral</td>\n",
       "      <td>\"#ChatGPT Risiko dan Perlunya #Kebijakan Perus...</td>\n",
       "    </tr>\n",
       "    <tr>\n",
       "      <th>4</th>\n",
       "      <td>Positif</td>\n",
       "      <td>\"#TripGen dapat memberikan layanan loop tertut...</td>\n",
       "    </tr>\n",
       "  </tbody>\n",
       "</table>\n",
       "</div>"
      ],
      "text/plain": [
       "     label                                              tweet\n",
       "0  Positif  -- Halaman obrolan #ChatGPT @OpenAi tidak terc...\n",
       "1   Netral  ' Snapchat merilis chatbot AI-nya sendiri yang...\n",
       "2   Netral  \" #ChatGPT untuk Guru - Panduan oleh Evan Dunn...\n",
       "3   Netral  \"#ChatGPT Risiko dan Perlunya #Kebijakan Perus...\n",
       "4  Positif  \"#TripGen dapat memberikan layanan loop tertut..."
      ]
     },
     "execution_count": 2,
     "metadata": {},
     "output_type": "execute_result"
    }
   ],
   "source": [
    "# import dataset\n",
    "def load_data():\n",
    "    data = pd.read_excel('datalabelchatgpt_skripsi.xlsx')\n",
    "    data = data.loc[:, ::-1]\n",
    "    return data\n",
    "\n",
    "data = load_data()\n",
    "data.head()"
   ]
  },
  {
   "cell_type": "code",
   "execution_count": 3,
   "id": "886e3abb",
   "metadata": {
    "colab": {
     "base_uri": "https://localhost:8080/"
    },
    "id": "886e3abb",
    "outputId": "09eb6a66-67c3-46e6-a225-24575d40e85e"
   },
   "outputs": [
    {
     "data": {
      "text/plain": [
       "False"
      ]
     },
     "execution_count": 3,
     "metadata": {},
     "output_type": "execute_result"
    }
   ],
   "source": [
    "# hapus data kosong\n",
    "data.dropna(inplace=True)\n",
    "# mendeteksi keberadaan nilai kosong\n",
    "data.isna().values.any()"
   ]
  },
  {
   "cell_type": "code",
   "execution_count": 4,
   "id": "6oYA1TeuW2YZ",
   "metadata": {
    "colab": {
     "base_uri": "https://localhost:8080/"
    },
    "id": "6oYA1TeuW2YZ",
    "outputId": "1e74ebc4-b3c9-439e-ab18-c56f520e4eda"
   },
   "outputs": [
    {
     "data": {
      "text/plain": [
       "False    7101\n",
       "dtype: int64"
      ]
     },
     "execution_count": 4,
     "metadata": {},
     "output_type": "execute_result"
    }
   ],
   "source": [
    "# hapus duplikasi data\n",
    "data.drop_duplicates(inplace=True)\n",
    "# hitung jumlah duplikasi data\n",
    "data.duplicated().value_counts()"
   ]
  },
  {
   "cell_type": "code",
   "execution_count": 5,
   "id": "v2s7FxitW7Zl",
   "metadata": {
    "colab": {
     "base_uri": "https://localhost:8080/"
    },
    "id": "v2s7FxitW7Zl",
    "outputId": "ae8bc5ac-94c0-486b-e3df-fb843c76a890"
   },
   "outputs": [
    {
     "data": {
      "text/plain": [
       "(7101, 2)"
      ]
     },
     "execution_count": 5,
     "metadata": {},
     "output_type": "execute_result"
    }
   ],
   "source": [
    "data.shape"
   ]
  },
  {
   "cell_type": "code",
   "execution_count": 6,
   "id": "cNheMa8bS6QH",
   "metadata": {
    "colab": {
     "base_uri": "https://localhost:8080/"
    },
    "id": "cNheMa8bS6QH",
    "outputId": "d8f6f3ad-7b46-426f-a539-c36b9a78c2a1"
   },
   "outputs": [
    {
     "data": {
      "text/plain": [
       "Netral     3929\n",
       "Negatif    1844\n",
       "Positif    1328\n",
       "Name: label, dtype: int64"
      ]
     },
     "execution_count": 6,
     "metadata": {},
     "output_type": "execute_result"
    }
   ],
   "source": [
    "data['label'].value_counts()"
   ]
  },
  {
   "cell_type": "code",
   "execution_count": 7,
   "id": "2775cf39",
   "metadata": {
    "colab": {
     "base_uri": "https://localhost:8080/",
     "height": 640
    },
    "id": "2775cf39",
    "outputId": "6d5e7144-b42d-4d72-d622-6ebb4747a333"
   },
   "outputs": [
    {
     "data": {
      "text/plain": [
       "Text(0.5, 1.0, 'Dataset labels distribution')"
      ]
     },
     "execution_count": 7,
     "metadata": {},
     "output_type": "execute_result"
    },
    {
     "data": {
      "image/png": "[encoded data removed]",
      "text/plain": [
       "<Figure size 1000x800 with 1 Axes>"
      ]
     },
     "metadata": {},
     "output_type": "display_data"
    }
   ],
   "source": [
    "import matplotlib.pyplot as plt\n",
    "from collections import Counter\n",
    "\n",
    "label_cnt = Counter(data.label)\n",
    "plt.figure(figsize=(10,8))\n",
    "plt.bar(label_cnt.keys(), label_cnt.values(), color = [\"green\", \"blue\", \"red\"])\n",
    "plt.title(\"Dataset labels distribution\")"
   ]
  },
  {
   "cell_type": "markdown",
   "id": "OKjx4YfpFFKl",
   "metadata": {
    "id": "OKjx4YfpFFKl"
   },
   "source": [
    "# PREPROCESSING"
   ]
  },
  {
   "cell_type": "code",
   "execution_count": 8,
   "id": "yFYuIjSvYHjU",
   "metadata": {
    "colab": {
     "base_uri": "https://localhost:8080/",
     "height": 206
    },
    "id": "yFYuIjSvYHjU",
    "outputId": "2fc8f50a-1661-47e4-c79c-4aa9adb0a9c1"
   },
   "outputs": [
    {
     "data": {
      "text/html": [
       "<div>\n",
       "<style scoped>\n",
       "    .dataframe tbody tr th:only-of-type {\n",
       "        vertical-align: middle;\n",
       "    }\n",
       "\n",
       "    .dataframe tbody tr th {\n",
       "        vertical-align: top;\n",
       "    }\n",
       "\n",
       "    .dataframe thead th {\n",
       "        text-align: right;\n",
       "    }\n",
       "</style>\n",
       "<table border=\"1\" class=\"dataframe\">\n",
       "  <thead>\n",
       "    <tr style=\"text-align: right;\">\n",
       "      <th></th>\n",
       "      <th>label</th>\n",
       "      <th>tweet</th>\n",
       "      <th>lower</th>\n",
       "    </tr>\n",
       "  </thead>\n",
       "  <tbody>\n",
       "    <tr>\n",
       "      <th>0</th>\n",
       "      <td>Positif</td>\n",
       "      <td>-- Halaman obrolan #ChatGPT @OpenAi tidak terc...</td>\n",
       "      <td>-- halaman obrolan #chatgpt @openai tidak terc...</td>\n",
       "    </tr>\n",
       "    <tr>\n",
       "      <th>1</th>\n",
       "      <td>Netral</td>\n",
       "      <td>' Snapchat merilis chatbot AI-nya sendiri yang...</td>\n",
       "      <td>' snapchat merilis chatbot ai-nya sendiri yang...</td>\n",
       "    </tr>\n",
       "    <tr>\n",
       "      <th>2</th>\n",
       "      <td>Netral</td>\n",
       "      <td>\" #ChatGPT untuk Guru - Panduan oleh Evan Dunn...</td>\n",
       "      <td>\" #chatgpt untuk guru - panduan oleh evan dunn...</td>\n",
       "    </tr>\n",
       "    <tr>\n",
       "      <th>3</th>\n",
       "      <td>Netral</td>\n",
       "      <td>\"#ChatGPT Risiko dan Perlunya #Kebijakan Perus...</td>\n",
       "      <td>\"#chatgpt risiko dan perlunya #kebijakan perus...</td>\n",
       "    </tr>\n",
       "    <tr>\n",
       "      <th>4</th>\n",
       "      <td>Positif</td>\n",
       "      <td>\"#TripGen dapat memberikan layanan loop tertut...</td>\n",
       "      <td>\"#tripgen dapat memberikan layanan loop tertut...</td>\n",
       "    </tr>\n",
       "  </tbody>\n",
       "</table>\n",
       "</div>"
      ],
      "text/plain": [
       "     label                                              tweet  \\\n",
       "0  Positif  -- Halaman obrolan #ChatGPT @OpenAi tidak terc...   \n",
       "1   Netral  ' Snapchat merilis chatbot AI-nya sendiri yang...   \n",
       "2   Netral  \" #ChatGPT untuk Guru - Panduan oleh Evan Dunn...   \n",
       "3   Netral  \"#ChatGPT Risiko dan Perlunya #Kebijakan Perus...   \n",
       "4  Positif  \"#TripGen dapat memberikan layanan loop tertut...   \n",
       "\n",
       "                                               lower  \n",
       "0  -- halaman obrolan #chatgpt @openai tidak terc...  \n",
       "1  ' snapchat merilis chatbot ai-nya sendiri yang...  \n",
       "2  \" #chatgpt untuk guru - panduan oleh evan dunn...  \n",
       "3  \"#chatgpt risiko dan perlunya #kebijakan perus...  \n",
       "4  \"#tripgen dapat memberikan layanan loop tertut...  "
      ]
     },
     "execution_count": 8,
     "metadata": {},
     "output_type": "execute_result"
    }
   ],
   "source": [
    "#Mengubah text menjadi lowercase\n",
    "data['lower'] = data['tweet'].str.lower()\n",
    "data.head()"
   ]
  },
  {
   "cell_type": "code",
   "execution_count": 9,
   "id": "x3nLeWKCb2WT",
   "metadata": {
    "colab": {
     "base_uri": "https://localhost:8080/",
     "height": 206
    },
    "id": "x3nLeWKCb2WT",
    "outputId": "11bc30cd-18a4-4720-992c-4c4f654ce30d"
   },
   "outputs": [
    {
     "data": {
      "text/html": [
       "<div>\n",
       "<style scoped>\n",
       "    .dataframe tbody tr th:only-of-type {\n",
       "        vertical-align: middle;\n",
       "    }\n",
       "\n",
       "    .dataframe tbody tr th {\n",
       "        vertical-align: top;\n",
       "    }\n",
       "\n",
       "    .dataframe thead th {\n",
       "        text-align: right;\n",
       "    }\n",
       "</style>\n",
       "<table border=\"1\" class=\"dataframe\">\n",
       "  <thead>\n",
       "    <tr style=\"text-align: right;\">\n",
       "      <th></th>\n",
       "      <th>label</th>\n",
       "      <th>tweet</th>\n",
       "      <th>lower</th>\n",
       "      <th>hapusangka</th>\n",
       "    </tr>\n",
       "  </thead>\n",
       "  <tbody>\n",
       "    <tr>\n",
       "      <th>0</th>\n",
       "      <td>Positif</td>\n",
       "      <td>-- Halaman obrolan #ChatGPT @OpenAi tidak terc...</td>\n",
       "      <td>-- halaman obrolan #chatgpt @openai tidak terc...</td>\n",
       "      <td>-- halaman obrolan #chatgpt @openai tidak terc...</td>\n",
       "    </tr>\n",
       "    <tr>\n",
       "      <th>1</th>\n",
       "      <td>Netral</td>\n",
       "      <td>' Snapchat merilis chatbot AI-nya sendiri yang...</td>\n",
       "      <td>' snapchat merilis chatbot ai-nya sendiri yang...</td>\n",
       "      <td>' snapchat merilis chatbot ai-nya sendiri yang...</td>\n",
       "    </tr>\n",
       "    <tr>\n",
       "      <th>2</th>\n",
       "      <td>Netral</td>\n",
       "      <td>\" #ChatGPT untuk Guru - Panduan oleh Evan Dunn...</td>\n",
       "      <td>\" #chatgpt untuk guru - panduan oleh evan dunn...</td>\n",
       "      <td>\" #chatgpt untuk guru - panduan oleh evan dunn...</td>\n",
       "    </tr>\n",
       "    <tr>\n",
       "      <th>3</th>\n",
       "      <td>Netral</td>\n",
       "      <td>\"#ChatGPT Risiko dan Perlunya #Kebijakan Perus...</td>\n",
       "      <td>\"#chatgpt risiko dan perlunya #kebijakan perus...</td>\n",
       "      <td>\"#chatgpt risiko dan perlunya #kebijakan perus...</td>\n",
       "    </tr>\n",
       "    <tr>\n",
       "      <th>4</th>\n",
       "      <td>Positif</td>\n",
       "      <td>\"#TripGen dapat memberikan layanan loop tertut...</td>\n",
       "      <td>\"#tripgen dapat memberikan layanan loop tertut...</td>\n",
       "      <td>\"#tripgen dapat memberikan layanan loop tertut...</td>\n",
       "    </tr>\n",
       "  </tbody>\n",
       "</table>\n",
       "</div>"
      ],
      "text/plain": [
       "     label                                              tweet  \\\n",
       "0  Positif  -- Halaman obrolan #ChatGPT @OpenAi tidak terc...   \n",
       "1   Netral  ' Snapchat merilis chatbot AI-nya sendiri yang...   \n",
       "2   Netral  \" #ChatGPT untuk Guru - Panduan oleh Evan Dunn...   \n",
       "3   Netral  \"#ChatGPT Risiko dan Perlunya #Kebijakan Perus...   \n",
       "4  Positif  \"#TripGen dapat memberikan layanan loop tertut...   \n",
       "\n",
       "                                               lower  \\\n",
       "0  -- halaman obrolan #chatgpt @openai tidak terc...   \n",
       "1  ' snapchat merilis chatbot ai-nya sendiri yang...   \n",
       "2  \" #chatgpt untuk guru - panduan oleh evan dunn...   \n",
       "3  \"#chatgpt risiko dan perlunya #kebijakan perus...   \n",
       "4  \"#tripgen dapat memberikan layanan loop tertut...   \n",
       "\n",
       "                                          hapusangka  \n",
       "0  -- halaman obrolan #chatgpt @openai tidak terc...  \n",
       "1  ' snapchat merilis chatbot ai-nya sendiri yang...  \n",
       "2  \" #chatgpt untuk guru - panduan oleh evan dunn...  \n",
       "3  \"#chatgpt risiko dan perlunya #kebijakan perus...  \n",
       "4  \"#tripgen dapat memberikan layanan loop tertut...  "
      ]
     },
     "execution_count": 9,
     "metadata": {},
     "output_type": "execute_result"
    }
   ],
   "source": [
    "import re # impor modul regular expression\n",
    "def hapus_angka(text):\n",
    "    text = re.sub(r\"\\d+\", \"\", text)\n",
    "    return text\n",
    "\n",
    "data['hapusangka']=data['lower'].apply(hapus_angka)\n",
    "data.head()"
   ]
  },
  {
   "cell_type": "code",
   "execution_count": 10,
   "id": "zpuygiVEmtyo",
   "metadata": {
    "colab": {
     "base_uri": "https://localhost:8080/"
    },
    "id": "zpuygiVEmtyo",
    "outputId": "81190157-2deb-406a-cafd-9ecbb81b17c2"
   },
   "outputs": [
    {
     "name": "stderr",
     "output_type": "stream",
     "text": [
      "[nltk_data] Downloading package stopwords to\n",
      "[nltk_data]     C:\\Users\\lenov\\AppData\\Roaming\\nltk_data...\n",
      "[nltk_data]   Package stopwords is already up-to-date!\n",
      "[nltk_data] Downloading package punkt to\n",
      "[nltk_data]     C:\\Users\\lenov\\AppData\\Roaming\\nltk_data...\n",
      "[nltk_data]   Package punkt is already up-to-date!\n",
      "[nltk_data] Downloading package wordnet to\n",
      "[nltk_data]     C:\\Users\\lenov\\AppData\\Roaming\\nltk_data...\n",
      "[nltk_data]   Package wordnet is already up-to-date!\n"
     ]
    },
    {
     "name": "stdout",
     "output_type": "stream",
     "text": [
      "Requirement already satisfied: Sastrawi in g:\\anaconda\\lib\\site-packages (1.0.1)\n"
     ]
    }
   ],
   "source": [
    "import nltk\n",
    "nltk.download('stopwords')\n",
    "nltk.download('punkt')\n",
    "nltk.download('wordnet')\n",
    "!pip install Sastrawi"
   ]
  },
  {
   "cell_type": "code",
   "execution_count": 11,
   "id": "WhAhQQ5Ml4RP",
   "metadata": {
    "id": "WhAhQQ5Ml4RP"
   },
   "outputs": [],
   "source": [
    "#import stopword\n",
    "from nltk.corpus import stopwords\n",
    "stop_words = stopwords.words('indonesian')\n",
    "\n",
    "#import sastrawi\n",
    "from nltk.stem import WordNetLemmatizer\n",
    "lemma = WordNetLemmatizer()\n",
    "from Sastrawi.Stemmer.StemmerFactory import StemmerFactory\n",
    "factory = StemmerFactory()\n",
    "stemmer = factory.create_stemmer()\n",
    "\n",
    "#tokenize\n",
    "from nltk.tokenize import word_tokenize"
   ]
  },
  {
   "cell_type": "code",
   "execution_count": 12,
   "id": "3a72134d",
   "metadata": {},
   "outputs": [
    {
     "data": {
      "text/html": [
       "<div>\n",
       "<style scoped>\n",
       "    .dataframe tbody tr th:only-of-type {\n",
       "        vertical-align: middle;\n",
       "    }\n",
       "\n",
       "    .dataframe tbody tr th {\n",
       "        vertical-align: top;\n",
       "    }\n",
       "\n",
       "    .dataframe thead th {\n",
       "        text-align: right;\n",
       "    }\n",
       "</style>\n",
       "<table border=\"1\" class=\"dataframe\">\n",
       "  <thead>\n",
       "    <tr style=\"text-align: right;\">\n",
       "      <th></th>\n",
       "      <th>label</th>\n",
       "      <th>tweet</th>\n",
       "      <th>lower</th>\n",
       "      <th>hapusangka</th>\n",
       "      <th>normalisasi</th>\n",
       "    </tr>\n",
       "  </thead>\n",
       "  <tbody>\n",
       "    <tr>\n",
       "      <th>0</th>\n",
       "      <td>Positif</td>\n",
       "      <td>-- Halaman obrolan #ChatGPT @OpenAi tidak terc...</td>\n",
       "      <td>-- halaman obrolan #chatgpt @openai tidak terc...</td>\n",
       "      <td>-- halaman obrolan #chatgpt @openai tidak terc...</td>\n",
       "      <td>-- halaman obrolan #chatgpt @openai tidak terc...</td>\n",
       "    </tr>\n",
       "    <tr>\n",
       "      <th>1</th>\n",
       "      <td>Netral</td>\n",
       "      <td>' Snapchat merilis chatbot AI-nya sendiri yang...</td>\n",
       "      <td>' snapchat merilis chatbot ai-nya sendiri yang...</td>\n",
       "      <td>' snapchat merilis chatbot ai-nya sendiri yang...</td>\n",
       "      <td>' snapchat merilis chatbot ai-nya sendiri yang...</td>\n",
       "    </tr>\n",
       "    <tr>\n",
       "      <th>2</th>\n",
       "      <td>Netral</td>\n",
       "      <td>\" #ChatGPT untuk Guru - Panduan oleh Evan Dunn...</td>\n",
       "      <td>\" #chatgpt untuk guru - panduan oleh evan dunn...</td>\n",
       "      <td>\" #chatgpt untuk guru - panduan oleh evan dunn...</td>\n",
       "      <td>\" #chatgpt untuk guru - panduan oleh evan dunn...</td>\n",
       "    </tr>\n",
       "    <tr>\n",
       "      <th>3</th>\n",
       "      <td>Netral</td>\n",
       "      <td>\"#ChatGPT Risiko dan Perlunya #Kebijakan Perus...</td>\n",
       "      <td>\"#chatgpt risiko dan perlunya #kebijakan perus...</td>\n",
       "      <td>\"#chatgpt risiko dan perlunya #kebijakan perus...</td>\n",
       "      <td>\"#chatgpt risiko dan perlunya #kebijakan perus...</td>\n",
       "    </tr>\n",
       "    <tr>\n",
       "      <th>4</th>\n",
       "      <td>Positif</td>\n",
       "      <td>\"#TripGen dapat memberikan layanan loop tertut...</td>\n",
       "      <td>\"#tripgen dapat memberikan layanan loop tertut...</td>\n",
       "      <td>\"#tripgen dapat memberikan layanan loop tertut...</td>\n",
       "      <td>\"#tripgen dapat memberikan layanan loop tertut...</td>\n",
       "    </tr>\n",
       "  </tbody>\n",
       "</table>\n",
       "</div>"
      ],
      "text/plain": [
       "     label                                              tweet  \\\n",
       "0  Positif  -- Halaman obrolan #ChatGPT @OpenAi tidak terc...   \n",
       "1   Netral  ' Snapchat merilis chatbot AI-nya sendiri yang...   \n",
       "2   Netral  \" #ChatGPT untuk Guru - Panduan oleh Evan Dunn...   \n",
       "3   Netral  \"#ChatGPT Risiko dan Perlunya #Kebijakan Perus...   \n",
       "4  Positif  \"#TripGen dapat memberikan layanan loop tertut...   \n",
       "\n",
       "                                               lower  \\\n",
       "0  -- halaman obrolan #chatgpt @openai tidak terc...   \n",
       "1  ' snapchat merilis chatbot ai-nya sendiri yang...   \n",
       "2  \" #chatgpt untuk guru - panduan oleh evan dunn...   \n",
       "3  \"#chatgpt risiko dan perlunya #kebijakan perus...   \n",
       "4  \"#tripgen dapat memberikan layanan loop tertut...   \n",
       "\n",
       "                                          hapusangka  \\\n",
       "0  -- halaman obrolan #chatgpt @openai tidak terc...   \n",
       "1  ' snapchat merilis chatbot ai-nya sendiri yang...   \n",
       "2  \" #chatgpt untuk guru - panduan oleh evan dunn...   \n",
       "3  \"#chatgpt risiko dan perlunya #kebijakan perus...   \n",
       "4  \"#tripgen dapat memberikan layanan loop tertut...   \n",
       "\n",
       "                                         normalisasi  \n",
       "0  -- halaman obrolan #chatgpt @openai tidak terc...  \n",
       "1  ' snapchat merilis chatbot ai-nya sendiri yang...  \n",
       "2  \" #chatgpt untuk guru - panduan oleh evan dunn...  \n",
       "3  \"#chatgpt risiko dan perlunya #kebijakan perus...  \n",
       "4  \"#tripgen dapat memberikan layanan loop tertut...  "
      ]
     },
     "execution_count": 12,
     "metadata": {},
     "output_type": "execute_result"
    }
   ],
   "source": [
    "key_norm = pd.read_csv('key_norm.csv')\n",
    "\n",
    "# Membuat Fungsi Normalisasi Teks\n",
    "def text_normalize(text):\n",
    "  text = ' '.join([key_norm[key_norm['singkat'] == word]['hasil'].values[0]\n",
    "  if (key_norm['singkat'] == word).any()\n",
    "  else word for word in text.split()\n",
    "  ])\n",
    "\n",
    "  text = str.lower(text)\n",
    "  return text\n",
    "\n",
    "data['normalisasi'] = data['hapusangka'].apply(text_normalize)\n",
    "data.head()"
   ]
  },
  {
   "cell_type": "code",
   "execution_count": 13,
   "id": "08c1823c",
   "metadata": {
    "colab": {
     "base_uri": "https://localhost:8080/",
     "height": 241
    },
    "id": "08c1823c",
    "outputId": "e5c0799e-f21c-448c-8d25-99b2ee46117d"
   },
   "outputs": [
    {
     "data": {
      "text/html": [
       "<div>\n",
       "<style scoped>\n",
       "    .dataframe tbody tr th:only-of-type {\n",
       "        vertical-align: middle;\n",
       "    }\n",
       "\n",
       "    .dataframe tbody tr th {\n",
       "        vertical-align: top;\n",
       "    }\n",
       "\n",
       "    .dataframe thead th {\n",
       "        text-align: right;\n",
       "    }\n",
       "</style>\n",
       "<table border=\"1\" class=\"dataframe\">\n",
       "  <thead>\n",
       "    <tr style=\"text-align: right;\">\n",
       "      <th></th>\n",
       "      <th>label</th>\n",
       "      <th>tweet</th>\n",
       "      <th>lower</th>\n",
       "      <th>hapusangka</th>\n",
       "      <th>normalisasi</th>\n",
       "      <th>token</th>\n",
       "    </tr>\n",
       "  </thead>\n",
       "  <tbody>\n",
       "    <tr>\n",
       "      <th>0</th>\n",
       "      <td>Positif</td>\n",
       "      <td>-- Halaman obrolan #ChatGPT @OpenAi tidak terc...</td>\n",
       "      <td>-- halaman obrolan #chatgpt @openai tidak terc...</td>\n",
       "      <td>-- halaman obrolan #chatgpt @openai tidak terc...</td>\n",
       "      <td>-- halaman obrolan #chatgpt @openai tidak terc...</td>\n",
       "      <td>[halaman, obrolan, chatgpt, openai, tidak, ter...</td>\n",
       "    </tr>\n",
       "    <tr>\n",
       "      <th>1</th>\n",
       "      <td>Netral</td>\n",
       "      <td>' Snapchat merilis chatbot AI-nya sendiri yang...</td>\n",
       "      <td>' snapchat merilis chatbot ai-nya sendiri yang...</td>\n",
       "      <td>' snapchat merilis chatbot ai-nya sendiri yang...</td>\n",
       "      <td>' snapchat merilis chatbot ai-nya sendiri yang...</td>\n",
       "      <td>[snapchat, merilis, chatbot, ai, nya, sendiri,...</td>\n",
       "    </tr>\n",
       "    <tr>\n",
       "      <th>2</th>\n",
       "      <td>Netral</td>\n",
       "      <td>\" #ChatGPT untuk Guru - Panduan oleh Evan Dunn...</td>\n",
       "      <td>\" #chatgpt untuk guru - panduan oleh evan dunn...</td>\n",
       "      <td>\" #chatgpt untuk guru - panduan oleh evan dunn...</td>\n",
       "      <td>\" #chatgpt untuk guru - panduan oleh evan dunn...</td>\n",
       "      <td>[chatgpt, untuk, guru, panduan, oleh, evan, du...</td>\n",
       "    </tr>\n",
       "    <tr>\n",
       "      <th>3</th>\n",
       "      <td>Netral</td>\n",
       "      <td>\"#ChatGPT Risiko dan Perlunya #Kebijakan Perus...</td>\n",
       "      <td>\"#chatgpt risiko dan perlunya #kebijakan perus...</td>\n",
       "      <td>\"#chatgpt risiko dan perlunya #kebijakan perus...</td>\n",
       "      <td>\"#chatgpt risiko dan perlunya #kebijakan perus...</td>\n",
       "      <td>[chatgpt, risiko, dan, perlunya, kebijakan, pe...</td>\n",
       "    </tr>\n",
       "    <tr>\n",
       "      <th>4</th>\n",
       "      <td>Positif</td>\n",
       "      <td>\"#TripGen dapat memberikan layanan loop tertut...</td>\n",
       "      <td>\"#tripgen dapat memberikan layanan loop tertut...</td>\n",
       "      <td>\"#tripgen dapat memberikan layanan loop tertut...</td>\n",
       "      <td>\"#tripgen dapat memberikan layanan loop tertut...</td>\n",
       "      <td>[tripgen, dapat, memberikan, layanan, loop, te...</td>\n",
       "    </tr>\n",
       "  </tbody>\n",
       "</table>\n",
       "</div>"
      ],
      "text/plain": [
       "     label                                              tweet  \\\n",
       "0  Positif  -- Halaman obrolan #ChatGPT @OpenAi tidak terc...   \n",
       "1   Netral  ' Snapchat merilis chatbot AI-nya sendiri yang...   \n",
       "2   Netral  \" #ChatGPT untuk Guru - Panduan oleh Evan Dunn...   \n",
       "3   Netral  \"#ChatGPT Risiko dan Perlunya #Kebijakan Perus...   \n",
       "4  Positif  \"#TripGen dapat memberikan layanan loop tertut...   \n",
       "\n",
       "                                               lower  \\\n",
       "0  -- halaman obrolan #chatgpt @openai tidak terc...   \n",
       "1  ' snapchat merilis chatbot ai-nya sendiri yang...   \n",
       "2  \" #chatgpt untuk guru - panduan oleh evan dunn...   \n",
       "3  \"#chatgpt risiko dan perlunya #kebijakan perus...   \n",
       "4  \"#tripgen dapat memberikan layanan loop tertut...   \n",
       "\n",
       "                                          hapusangka  \\\n",
       "0  -- halaman obrolan #chatgpt @openai tidak terc...   \n",
       "1  ' snapchat merilis chatbot ai-nya sendiri yang...   \n",
       "2  \" #chatgpt untuk guru - panduan oleh evan dunn...   \n",
       "3  \"#chatgpt risiko dan perlunya #kebijakan perus...   \n",
       "4  \"#tripgen dapat memberikan layanan loop tertut...   \n",
       "\n",
       "                                         normalisasi  \\\n",
       "0  -- halaman obrolan #chatgpt @openai tidak terc...   \n",
       "1  ' snapchat merilis chatbot ai-nya sendiri yang...   \n",
       "2  \" #chatgpt untuk guru - panduan oleh evan dunn...   \n",
       "3  \"#chatgpt risiko dan perlunya #kebijakan perus...   \n",
       "4  \"#tripgen dapat memberikan layanan loop tertut...   \n",
       "\n",
       "                                               token  \n",
       "0  [halaman, obrolan, chatgpt, openai, tidak, ter...  \n",
       "1  [snapchat, merilis, chatbot, ai, nya, sendiri,...  \n",
       "2  [chatgpt, untuk, guru, panduan, oleh, evan, du...  \n",
       "3  [chatgpt, risiko, dan, perlunya, kebijakan, pe...  \n",
       "4  [tripgen, dapat, memberikan, layanan, loop, te...  "
      ]
     },
     "execution_count": 13,
     "metadata": {},
     "output_type": "execute_result"
    }
   ],
   "source": [
    "# all\n",
    "emoticons_phone = set(['🤣','😁','😂','🖖','😘','❤️','😄','😔','☺️','👍','😊','😍','😭','💋','😒','😳','😜','🙈','😡',\n",
    "                       '😱','😝','😢','😃','😉','😏','😞','😅','😚','🙊','😌','😀','😋','😆','😕','👌','😀','😃',\n",
    "                       '😄','😁','😆','😅','😂','🤣','☺️','😊','😇','🙂','🙃','😉','😌','😍','🥰','😘','😗','😙','😚',\n",
    "                       '😋','😛','😝','😜','🤪','🤨','🧐','🤓','😎','🤩','🥳','😏','😒','😞','😔','😟','😕','🙁',\n",
    "                       '☹️','😣','😖','😫','😩','🥺','😢','😭','😤','😠','😡','🤬','🤯','😳','🥵','🥶','😱','😨',\n",
    "                       '😰','😥','😓','🤗','🤔','🤭🤫','🤥😶','😐','😑','😬','🙄','😯','😦','😧','😮','😲','🥱','😴',\n",
    "                       '🤤','😪','😵','🤐','🥴','🤢','🤮','🤧','😷','🤒','🤕','🤑','🤠😈','👿','👹','👺','🤡','💩',\n",
    "                       '👻','💀','☠️','👽','👾','🤖','🎃','😺','😸','😻','😹','😼','😽','🙀','😿','😾','🤲','👍','👍🏻','🤝',\n",
    "                       '👎','🤜','🤛','🤞','✌️','🤟','🤘','👌','🤏','👈','👉','👆','👇','☝️','✋','🤚','🖐','🖖','👋','🤙',\n",
    "                       '💪','🦾','👇','🖕','🙏','🦶','🦵','🦿','💄','💋','👄','🦷','👅','👃','🦻','👣','👁','👀','🧠',\n",
    "                       '🗣👤','👥','👶','👧','🧒','👦','👩','🧑','👨','👩‍🦱','🧑‍🦱','👨‍🦱👩‍🦰','🧑‍🦰👨‍🦰','👱‍♀️','👱','👱‍♂️','👩‍🦳','🧑‍🦳',\n",
    "                       '👨‍🦳','👩‍🦲','🧑‍🦲','👨‍🦲','🧔','👵','🧓','👴','👲','👳‍♀️','👳','👳‍♂️','🧕','👮‍♀️','👲','👮‍♂️','👷‍♀️','👷','👷‍♂️',\n",
    "                       '💂‍♀️','💂','💂‍♂️','🕵️‍♀️','🕵️','🕵️‍♂️','👩‍⚕️','🧑‍⚕️','👨‍⚕️','👩‍🌾','🐒','🙊','🐵','🙈','🙉','🐷','🐻','🐶','🐱',\n",
    "                       '🦊','🚗','🚕','🚙','🚌','🚎','🏎','🚛','🚚','🚐','🚒','🚑','🚓','🏢','🏠','🏡','🏬','🏘','🏣',\n",
    "                       '🏚','🏤','🏗','🏥','⛺️','🏦','🏛','💒','🏩','🏫','🏪','🏨','⛪️','🕌','🕍','🛕','🕋','⛩','📈',\n",
    "                       '📉','🗒','🗓','⭐'])\n",
    "# sad happy\n",
    "emoticons_sad_happy= set(['◉‿◉','o ^ - ^ o','^_^',':)',':^)',\n",
    "                     ': NS)','8)',':HAI','@',':HAI)',':‑)',\n",
    "                     ':P',':@','8‑D',':‑)',':-&','=D',':‑p',\n",
    "                     '=‑D','XD',':D',':-))','%-)',':}',\n",
    "                     ':c)',':^)',':C','>:3',':>','L',':-/','>:/',\n",
    "                     ':S','>:[','@',':-(','\"[\"',':-<',\n",
    "                     '=\\\\','=/','>:(',':',':{','>:\\\\',\n",
    "                     '(',':','(\", \")',':','(\"',':-c',\n",
    "                     '> :(',':‑',':NS('])\n",
    "# all emot happy + sad\n",
    "emoticons = emoticons_phone.union(emoticons_sad_happy)\n",
    "\n",
    "def Scan(text):\n",
    "    # remove stock market tickers like $GE\n",
    "    text = re.sub(r'\\$\\w*', '', text)\n",
    "    # remove old style retweet text \"RT\"\n",
    "    tweet = re.sub(r'^RT[\\s]+', '', text)\n",
    "    # remove hyperlinks\n",
    "    text = re.sub(r'https?:\\/\\/.*[\\r\\n]*', '', text)\n",
    "    # remove hashtags\n",
    "    # only removing the hash # sign from the word\n",
    "    text = re.sub(r'#', '', text)\n",
    "    # remove coma\n",
    "    text = re.sub(r',','',text)\n",
    "    # remove angka\n",
    "    text = re.sub('[0-9]+', '', text)\n",
    "    # hapus teks tidak relevan\n",
    "    text = re.sub('[^a-zA-Z]','  ', text)\n",
    "    # tokenize\n",
    "    text = word_tokenize(text)\n",
    "    # lemmatization\n",
    "    text = [lemma.lemmatize(word=w,pos='v') for w in text]\n",
    "    return text\n",
    "\n",
    "    text_clean = []\n",
    "    for word in text:\n",
    "        if (word not in stop_words or # remove stopwords\n",
    "            word not in emoticons or # remove emoticons\n",
    "            word not in string.punctuation): # remove punctuation\n",
    "    #text_clean.append(word)\n",
    "            text_clean.append(word)\n",
    "    return text_clean\n",
    "\n",
    "data['token'] = data['normalisasi'].apply(Scan)\n",
    "data.head()"
   ]
  },
  {
   "cell_type": "code",
   "execution_count": 14,
   "id": "508ae514",
   "metadata": {
    "colab": {
     "base_uri": "https://localhost:8080/",
     "height": 241
    },
    "id": "508ae514",
    "outputId": "375e9154-64da-4592-93fd-1e8e745b2390"
   },
   "outputs": [
    {
     "data": {
      "text/html": [
       "<div>\n",
       "<style scoped>\n",
       "    .dataframe tbody tr th:only-of-type {\n",
       "        vertical-align: middle;\n",
       "    }\n",
       "\n",
       "    .dataframe tbody tr th {\n",
       "        vertical-align: top;\n",
       "    }\n",
       "\n",
       "    .dataframe thead th {\n",
       "        text-align: right;\n",
       "    }\n",
       "</style>\n",
       "<table border=\"1\" class=\"dataframe\">\n",
       "  <thead>\n",
       "    <tr style=\"text-align: right;\">\n",
       "      <th></th>\n",
       "      <th>label</th>\n",
       "      <th>tweet</th>\n",
       "      <th>lower</th>\n",
       "      <th>hapusangka</th>\n",
       "      <th>normalisasi</th>\n",
       "      <th>token</th>\n",
       "      <th>filter</th>\n",
       "    </tr>\n",
       "  </thead>\n",
       "  <tbody>\n",
       "    <tr>\n",
       "      <th>0</th>\n",
       "      <td>Positif</td>\n",
       "      <td>-- Halaman obrolan #ChatGPT @OpenAi tidak terc...</td>\n",
       "      <td>-- halaman obrolan #chatgpt @openai tidak terc...</td>\n",
       "      <td>-- halaman obrolan #chatgpt @openai tidak terc...</td>\n",
       "      <td>-- halaman obrolan #chatgpt @openai tidak terc...</td>\n",
       "      <td>[halaman, obrolan, chatgpt, openai, tidak, ter...</td>\n",
       "      <td>halaman obrolan chatgpt openai tidak tercetak ...</td>\n",
       "    </tr>\n",
       "    <tr>\n",
       "      <th>1</th>\n",
       "      <td>Netral</td>\n",
       "      <td>' Snapchat merilis chatbot AI-nya sendiri yang...</td>\n",
       "      <td>' snapchat merilis chatbot ai-nya sendiri yang...</td>\n",
       "      <td>' snapchat merilis chatbot ai-nya sendiri yang...</td>\n",
       "      <td>' snapchat merilis chatbot ai-nya sendiri yang...</td>\n",
       "      <td>[snapchat, merilis, chatbot, ai, nya, sendiri,...</td>\n",
       "      <td>snapchat merilis chatbot ai nya sendiri yang d...</td>\n",
       "    </tr>\n",
       "    <tr>\n",
       "      <th>2</th>\n",
       "      <td>Netral</td>\n",
       "      <td>\" #ChatGPT untuk Guru - Panduan oleh Evan Dunn...</td>\n",
       "      <td>\" #chatgpt untuk guru - panduan oleh evan dunn...</td>\n",
       "      <td>\" #chatgpt untuk guru - panduan oleh evan dunn...</td>\n",
       "      <td>\" #chatgpt untuk guru - panduan oleh evan dunn...</td>\n",
       "      <td>[chatgpt, untuk, guru, panduan, oleh, evan, du...</td>\n",
       "      <td>chatgpt untuk guru panduan oleh evan dunne dar...</td>\n",
       "    </tr>\n",
       "    <tr>\n",
       "      <th>3</th>\n",
       "      <td>Netral</td>\n",
       "      <td>\"#ChatGPT Risiko dan Perlunya #Kebijakan Perus...</td>\n",
       "      <td>\"#chatgpt risiko dan perlunya #kebijakan perus...</td>\n",
       "      <td>\"#chatgpt risiko dan perlunya #kebijakan perus...</td>\n",
       "      <td>\"#chatgpt risiko dan perlunya #kebijakan perus...</td>\n",
       "      <td>[chatgpt, risiko, dan, perlunya, kebijakan, pe...</td>\n",
       "      <td>chatgpt risiko dan perlunya kebijakan perusaha...</td>\n",
       "    </tr>\n",
       "    <tr>\n",
       "      <th>4</th>\n",
       "      <td>Positif</td>\n",
       "      <td>\"#TripGen dapat memberikan layanan loop tertut...</td>\n",
       "      <td>\"#tripgen dapat memberikan layanan loop tertut...</td>\n",
       "      <td>\"#tripgen dapat memberikan layanan loop tertut...</td>\n",
       "      <td>\"#tripgen dapat memberikan layanan loop tertut...</td>\n",
       "      <td>[tripgen, dapat, memberikan, layanan, loop, te...</td>\n",
       "      <td>tripgen dapat memberikan layanan loop tertutup...</td>\n",
       "    </tr>\n",
       "  </tbody>\n",
       "</table>\n",
       "</div>"
      ],
      "text/plain": [
       "     label                                              tweet  \\\n",
       "0  Positif  -- Halaman obrolan #ChatGPT @OpenAi tidak terc...   \n",
       "1   Netral  ' Snapchat merilis chatbot AI-nya sendiri yang...   \n",
       "2   Netral  \" #ChatGPT untuk Guru - Panduan oleh Evan Dunn...   \n",
       "3   Netral  \"#ChatGPT Risiko dan Perlunya #Kebijakan Perus...   \n",
       "4  Positif  \"#TripGen dapat memberikan layanan loop tertut...   \n",
       "\n",
       "                                               lower  \\\n",
       "0  -- halaman obrolan #chatgpt @openai tidak terc...   \n",
       "1  ' snapchat merilis chatbot ai-nya sendiri yang...   \n",
       "2  \" #chatgpt untuk guru - panduan oleh evan dunn...   \n",
       "3  \"#chatgpt risiko dan perlunya #kebijakan perus...   \n",
       "4  \"#tripgen dapat memberikan layanan loop tertut...   \n",
       "\n",
       "                                          hapusangka  \\\n",
       "0  -- halaman obrolan #chatgpt @openai tidak terc...   \n",
       "1  ' snapchat merilis chatbot ai-nya sendiri yang...   \n",
       "2  \" #chatgpt untuk guru - panduan oleh evan dunn...   \n",
       "3  \"#chatgpt risiko dan perlunya #kebijakan perus...   \n",
       "4  \"#tripgen dapat memberikan layanan loop tertut...   \n",
       "\n",
       "                                         normalisasi  \\\n",
       "0  -- halaman obrolan #chatgpt @openai tidak terc...   \n",
       "1  ' snapchat merilis chatbot ai-nya sendiri yang...   \n",
       "2  \" #chatgpt untuk guru - panduan oleh evan dunn...   \n",
       "3  \"#chatgpt risiko dan perlunya #kebijakan perus...   \n",
       "4  \"#tripgen dapat memberikan layanan loop tertut...   \n",
       "\n",
       "                                               token  \\\n",
       "0  [halaman, obrolan, chatgpt, openai, tidak, ter...   \n",
       "1  [snapchat, merilis, chatbot, ai, nya, sendiri,...   \n",
       "2  [chatgpt, untuk, guru, panduan, oleh, evan, du...   \n",
       "3  [chatgpt, risiko, dan, perlunya, kebijakan, pe...   \n",
       "4  [tripgen, dapat, memberikan, layanan, loop, te...   \n",
       "\n",
       "                                              filter  \n",
       "0  halaman obrolan chatgpt openai tidak tercetak ...  \n",
       "1  snapchat merilis chatbot ai nya sendiri yang d...  \n",
       "2  chatgpt untuk guru panduan oleh evan dunne dar...  \n",
       "3  chatgpt risiko dan perlunya kebijakan perusaha...  \n",
       "4  tripgen dapat memberikan layanan loop tertutup...  "
      ]
     },
     "execution_count": 14,
     "metadata": {},
     "output_type": "execute_result"
    }
   ],
   "source": [
    "#remove punct\n",
    "def remove_punct(text):\n",
    "    text = \" \".join([char for char in text if char not in string.punctuation])\n",
    "    return text\n",
    "\n",
    "data['filter'] = data['token'].apply(remove_punct)\n",
    "data.head()"
   ]
  },
  {
   "cell_type": "code",
   "execution_count": 15,
   "id": "231d925a",
   "metadata": {},
   "outputs": [
    {
     "data": {
      "text/html": [
       "<div>\n",
       "<style scoped>\n",
       "    .dataframe tbody tr th:only-of-type {\n",
       "        vertical-align: middle;\n",
       "    }\n",
       "\n",
       "    .dataframe tbody tr th {\n",
       "        vertical-align: top;\n",
       "    }\n",
       "\n",
       "    .dataframe thead th {\n",
       "        text-align: right;\n",
       "    }\n",
       "</style>\n",
       "<table border=\"1\" class=\"dataframe\">\n",
       "  <thead>\n",
       "    <tr style=\"text-align: right;\">\n",
       "      <th></th>\n",
       "      <th>label</th>\n",
       "      <th>tweet</th>\n",
       "      <th>lower</th>\n",
       "      <th>hapusangka</th>\n",
       "      <th>normalisasi</th>\n",
       "      <th>token</th>\n",
       "      <th>filter</th>\n",
       "      <th>fulltext</th>\n",
       "    </tr>\n",
       "  </thead>\n",
       "  <tbody>\n",
       "    <tr>\n",
       "      <th>0</th>\n",
       "      <td>Positif</td>\n",
       "      <td>-- Halaman obrolan #ChatGPT @OpenAi tidak terc...</td>\n",
       "      <td>-- halaman obrolan #chatgpt @openai tidak terc...</td>\n",
       "      <td>-- halaman obrolan #chatgpt @openai tidak terc...</td>\n",
       "      <td>-- halaman obrolan #chatgpt @openai tidak terc...</td>\n",
       "      <td>[halaman, obrolan, chatgpt, openai, tidak, ter...</td>\n",
       "      <td>halaman obrolan chatgpt openai tidak tercetak ...</td>\n",
       "      <td>halaman obrol chatgpt openai tidak cetak denga...</td>\n",
       "    </tr>\n",
       "    <tr>\n",
       "      <th>1</th>\n",
       "      <td>Netral</td>\n",
       "      <td>' Snapchat merilis chatbot AI-nya sendiri yang...</td>\n",
       "      <td>' snapchat merilis chatbot ai-nya sendiri yang...</td>\n",
       "      <td>' snapchat merilis chatbot ai-nya sendiri yang...</td>\n",
       "      <td>' snapchat merilis chatbot ai-nya sendiri yang...</td>\n",
       "      <td>[snapchat, merilis, chatbot, ai, nya, sendiri,...</td>\n",
       "      <td>snapchat merilis chatbot ai nya sendiri yang d...</td>\n",
       "      <td>snapchat rilis chatbot ai nya sendiri yang duk...</td>\n",
       "    </tr>\n",
       "    <tr>\n",
       "      <th>2</th>\n",
       "      <td>Netral</td>\n",
       "      <td>\" #ChatGPT untuk Guru - Panduan oleh Evan Dunn...</td>\n",
       "      <td>\" #chatgpt untuk guru - panduan oleh evan dunn...</td>\n",
       "      <td>\" #chatgpt untuk guru - panduan oleh evan dunn...</td>\n",
       "      <td>\" #chatgpt untuk guru - panduan oleh evan dunn...</td>\n",
       "      <td>[chatgpt, untuk, guru, panduan, oleh, evan, du...</td>\n",
       "      <td>chatgpt untuk guru panduan oleh evan dunne dar...</td>\n",
       "      <td>chatgpt untuk guru pandu oleh evan dunne dari ...</td>\n",
       "    </tr>\n",
       "    <tr>\n",
       "      <th>3</th>\n",
       "      <td>Netral</td>\n",
       "      <td>\"#ChatGPT Risiko dan Perlunya #Kebijakan Perus...</td>\n",
       "      <td>\"#chatgpt risiko dan perlunya #kebijakan perus...</td>\n",
       "      <td>\"#chatgpt risiko dan perlunya #kebijakan perus...</td>\n",
       "      <td>\"#chatgpt risiko dan perlunya #kebijakan perus...</td>\n",
       "      <td>[chatgpt, risiko, dan, perlunya, kebijakan, pe...</td>\n",
       "      <td>chatgpt risiko dan perlunya kebijakan perusaha...</td>\n",
       "      <td>chatgpt risiko dan perlu bijak usaha orlylobel</td>\n",
       "    </tr>\n",
       "    <tr>\n",
       "      <th>4</th>\n",
       "      <td>Positif</td>\n",
       "      <td>\"#TripGen dapat memberikan layanan loop tertut...</td>\n",
       "      <td>\"#tripgen dapat memberikan layanan loop tertut...</td>\n",
       "      <td>\"#tripgen dapat memberikan layanan loop tertut...</td>\n",
       "      <td>\"#tripgen dapat memberikan layanan loop tertut...</td>\n",
       "      <td>[tripgen, dapat, memberikan, layanan, loop, te...</td>\n",
       "      <td>tripgen dapat memberikan layanan loop tertutup...</td>\n",
       "      <td>tripgen dapat beri layan loop tutup kepada wis...</td>\n",
       "    </tr>\n",
       "  </tbody>\n",
       "</table>\n",
       "</div>"
      ],
      "text/plain": [
       "     label                                              tweet  \\\n",
       "0  Positif  -- Halaman obrolan #ChatGPT @OpenAi tidak terc...   \n",
       "1   Netral  ' Snapchat merilis chatbot AI-nya sendiri yang...   \n",
       "2   Netral  \" #ChatGPT untuk Guru - Panduan oleh Evan Dunn...   \n",
       "3   Netral  \"#ChatGPT Risiko dan Perlunya #Kebijakan Perus...   \n",
       "4  Positif  \"#TripGen dapat memberikan layanan loop tertut...   \n",
       "\n",
       "                                               lower  \\\n",
       "0  -- halaman obrolan #chatgpt @openai tidak terc...   \n",
       "1  ' snapchat merilis chatbot ai-nya sendiri yang...   \n",
       "2  \" #chatgpt untuk guru - panduan oleh evan dunn...   \n",
       "3  \"#chatgpt risiko dan perlunya #kebijakan perus...   \n",
       "4  \"#tripgen dapat memberikan layanan loop tertut...   \n",
       "\n",
       "                                          hapusangka  \\\n",
       "0  -- halaman obrolan #chatgpt @openai tidak terc...   \n",
       "1  ' snapchat merilis chatbot ai-nya sendiri yang...   \n",
       "2  \" #chatgpt untuk guru - panduan oleh evan dunn...   \n",
       "3  \"#chatgpt risiko dan perlunya #kebijakan perus...   \n",
       "4  \"#tripgen dapat memberikan layanan loop tertut...   \n",
       "\n",
       "                                         normalisasi  \\\n",
       "0  -- halaman obrolan #chatgpt @openai tidak terc...   \n",
       "1  ' snapchat merilis chatbot ai-nya sendiri yang...   \n",
       "2  \" #chatgpt untuk guru - panduan oleh evan dunn...   \n",
       "3  \"#chatgpt risiko dan perlunya #kebijakan perus...   \n",
       "4  \"#tripgen dapat memberikan layanan loop tertut...   \n",
       "\n",
       "                                               token  \\\n",
       "0  [halaman, obrolan, chatgpt, openai, tidak, ter...   \n",
       "1  [snapchat, merilis, chatbot, ai, nya, sendiri,...   \n",
       "2  [chatgpt, untuk, guru, panduan, oleh, evan, du...   \n",
       "3  [chatgpt, risiko, dan, perlunya, kebijakan, pe...   \n",
       "4  [tripgen, dapat, memberikan, layanan, loop, te...   \n",
       "\n",
       "                                              filter  \\\n",
       "0  halaman obrolan chatgpt openai tidak tercetak ...   \n",
       "1  snapchat merilis chatbot ai nya sendiri yang d...   \n",
       "2  chatgpt untuk guru panduan oleh evan dunne dar...   \n",
       "3  chatgpt risiko dan perlunya kebijakan perusaha...   \n",
       "4  tripgen dapat memberikan layanan loop tertutup...   \n",
       "\n",
       "                                            fulltext  \n",
       "0  halaman obrol chatgpt openai tidak cetak denga...  \n",
       "1  snapchat rilis chatbot ai nya sendiri yang duk...  \n",
       "2  chatgpt untuk guru pandu oleh evan dunne dari ...  \n",
       "3     chatgpt risiko dan perlu bijak usaha orlylobel  \n",
       "4  tripgen dapat beri layan loop tutup kepada wis...  "
      ]
     },
     "execution_count": 15,
     "metadata": {},
     "output_type": "execute_result"
    }
   ],
   "source": [
    "# Merubah Kata menjadi Kata dasar\n",
    "from Sastrawi.Stemmer.StemmerFactory import StemmerFactory\n",
    "\n",
    "# Membuat Fungsi untuk Stemming bahasa Indonesia\n",
    "def stemming(text):\n",
    "    text = [stemmer.stem(word) for word in text.split()]\n",
    "    return \" \".join(text)\n",
    "\n",
    "data['fulltext'] = data['filter'].apply(stemming)\n",
    "data.head()"
   ]
  },
  {
   "cell_type": "code",
   "execution_count": 16,
   "id": "6c085cc2",
   "metadata": {
    "colab": {
     "base_uri": "https://localhost:8080/"
    },
    "id": "6c085cc2",
    "outputId": "87858b10-8c6b-499d-9516-aab9f465d22e"
   },
   "outputs": [],
   "source": [
    "data.to_excel('datacleanchatgpt.xlsx',encoding='utf8', index=True)"
   ]
  }
 ],
 "metadata": {
  "colab": {
   "include_colab_link": true,
   "provenance": []
  },
  "kernelspec": {
   "display_name": "Python 3 (ipykernel)",
   "language": "python",
   "name": "python3"
  },
  "language_info": {
   "codemirror_mode": {
    "name": "ipython",
    "version": 3
   },
   "file_extension": ".py",
   "mimetype": "text/x-python",
   "name": "python",
   "nbconvert_exporter": "python",
   "pygments_lexer": "ipython3",
   "version": "3.9.13"
  }
 },
 "nbformat": 4,
 "nbformat_minor": 5
}
